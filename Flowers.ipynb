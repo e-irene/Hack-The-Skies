{
 "cells": [
  {
   "cell_type": "code",
   "execution_count": 2,
   "id": "018b41b4-6768-4581-8c31-51e8bd7d650b",
   "metadata": {},
   "outputs": [],
   "source": [
    "import numpy as np\n",
    "import pandas as pd \n",
    "from pandas import Series, DataFrame\n",
    "\n",
    "\n",
    "from sklearn.model_selection import train_test_split # split dataset\n",
    "from sklearn import svm # support vector machine algo\n",
    "from sklearn import metrics #check accuracy"
   ]
  },
  {
   "cell_type": "code",
   "execution_count": 3,
   "id": "c3bdd123-cdcf-4ad4-9f0f-9e796b921dff",
   "metadata": {},
   "outputs": [],
   "source": [
    "flowers = pd.read_csv(\"/Users/eirenemehta/Downloads/flowers.csv\")"
   ]
  },
  {
   "cell_type": "code",
   "execution_count": 4,
   "id": "ae9e202a-0693-47a0-b723-3ea33e94b78f",
   "metadata": {},
   "outputs": [],
   "source": [
    "flowers.shape\n",
    "train, test = train_test_split(flowers, test_size=0.03) #145 data points used to train, 5 used to test"
   ]
  },
  {
   "cell_type": "code",
   "execution_count": 5,
   "id": "7f114166-48f9-46e5-ba7c-1bd34942d49a",
   "metadata": {},
   "outputs": [],
   "source": [
    "train_X = train[['pistil.length','pistil.width','petal.length','petal.width']]  #variables to train on\n",
    "train_y = train.variety\n",
    "\n",
    "test_X = test[['pistil.length','pistil.width','petal.length','petal.width']]\n",
    "test_y = test.variety"
   ]
  },
  {
   "cell_type": "code",
   "execution_count": 6,
   "id": "d0374f43-c174-48aa-b3f9-9fd00dd7476a",
   "metadata": {},
   "outputs": [
    {
     "data": {
      "text/html": [
       "<div>\n",
       "<style scoped>\n",
       "    .dataframe tbody tr th:only-of-type {\n",
       "        vertical-align: middle;\n",
       "    }\n",
       "\n",
       "    .dataframe tbody tr th {\n",
       "        vertical-align: top;\n",
       "    }\n",
       "\n",
       "    .dataframe thead th {\n",
       "        text-align: right;\n",
       "    }\n",
       "</style>\n",
       "<table border=\"1\" class=\"dataframe\">\n",
       "  <thead>\n",
       "    <tr style=\"text-align: right;\">\n",
       "      <th></th>\n",
       "      <th>pistil.length</th>\n",
       "      <th>pistil.width</th>\n",
       "      <th>petal.length</th>\n",
       "      <th>petal.width</th>\n",
       "      <th>variety</th>\n",
       "    </tr>\n",
       "  </thead>\n",
       "  <tbody>\n",
       "    <tr>\n",
       "      <th>142</th>\n",
       "      <td>5.8</td>\n",
       "      <td>2.7</td>\n",
       "      <td>5.1</td>\n",
       "      <td>1.9</td>\n",
       "      <td>Lily</td>\n",
       "    </tr>\n",
       "    <tr>\n",
       "      <th>109</th>\n",
       "      <td>7.2</td>\n",
       "      <td>3.6</td>\n",
       "      <td>6.1</td>\n",
       "      <td>2.5</td>\n",
       "      <td>Lily</td>\n",
       "    </tr>\n",
       "    <tr>\n",
       "      <th>11</th>\n",
       "      <td>4.8</td>\n",
       "      <td>3.4</td>\n",
       "      <td>1.6</td>\n",
       "      <td>0.2</td>\n",
       "      <td>Lotus</td>\n",
       "    </tr>\n",
       "    <tr>\n",
       "      <th>40</th>\n",
       "      <td>5.0</td>\n",
       "      <td>3.5</td>\n",
       "      <td>1.3</td>\n",
       "      <td>0.3</td>\n",
       "      <td>Lotus</td>\n",
       "    </tr>\n",
       "    <tr>\n",
       "      <th>57</th>\n",
       "      <td>4.9</td>\n",
       "      <td>2.4</td>\n",
       "      <td>3.3</td>\n",
       "      <td>1.0</td>\n",
       "      <td>Daisy</td>\n",
       "    </tr>\n",
       "  </tbody>\n",
       "</table>\n",
       "</div>"
      ],
      "text/plain": [
       "     pistil.length  pistil.width  petal.length  petal.width variety\n",
       "142            5.8           2.7           5.1          1.9    Lily\n",
       "109            7.2           3.6           6.1          2.5    Lily\n",
       "11             4.8           3.4           1.6          0.2   Lotus\n",
       "40             5.0           3.5           1.3          0.3   Lotus\n",
       "57             4.9           2.4           3.3          1.0   Daisy"
      ]
     },
     "execution_count": 6,
     "metadata": {},
     "output_type": "execute_result"
    }
   ],
   "source": [
    "test.head() #display testing points"
   ]
  },
  {
   "cell_type": "code",
   "execution_count": 7,
   "id": "4b8cc1bd-0a68-4a1f-897f-8d2f8c3e387f",
   "metadata": {},
   "outputs": [
    {
     "name": "stdout",
     "output_type": "stream",
     "text": [
      "Prediction: ['Lily' 'Lily' 'Lotus' 'Lotus' 'Daisy']\n",
      "Predicted with accuracy:  1.0\n"
     ]
    }
   ],
   "source": [
    "model = svm.SVC()\n",
    "model.fit(train_X, train_y)\n",
    "prediction = model.predict(test_X)\n",
    "print(\"Prediction:\", prediction)\n",
    "print('Predicted with accuracy: ', metrics.accuracy_score(prediction, test_y))"
   ]
  },
  {
   "cell_type": "code",
   "execution_count": null,
   "id": "da92be91-f541-4314-b254-ecfbe5b3b3e1",
   "metadata": {},
   "outputs": [],
   "source": []
  }
 ],
 "metadata": {
  "kernelspec": {
   "display_name": "Python 3 (ipykernel)",
   "language": "python",
   "name": "python3"
  },
  "language_info": {
   "codemirror_mode": {
    "name": "ipython",
    "version": 3
   },
   "file_extension": ".py",
   "mimetype": "text/x-python",
   "name": "python",
   "nbconvert_exporter": "python",
   "pygments_lexer": "ipython3",
   "version": "3.12.3"
  }
 },
 "nbformat": 4,
 "nbformat_minor": 5
}
